{
 "cells": [
  {
   "cell_type": "markdown",
   "id": "33a31b51",
   "metadata": {},
   "source": [
    "This is my first linear graph\n"
   ]
  },
  {
   "cell_type": "code",
   "execution_count": 1,
   "id": "be90f992",
   "metadata": {},
   "outputs": [],
   "source": [
    "m=5\n",
    "c=-1\n",
    "x=[0, 1, 2, 3, 4, 5, 6]"
   ]
  },
  {
   "cell_type": "code",
   "execution_count": 2,
   "id": "756eff8d",
   "metadata": {},
   "outputs": [],
   "source": [
    "y=[m*x_i + c for x_i in x]"
   ]
  },
  {
   "cell_type": "code",
   "execution_count": 3,
   "id": "9d667a02",
   "metadata": {},
   "outputs": [
    {
     "name": "stdout",
     "output_type": "stream",
     "text": [
      "[-1, 4, 9, 14, 19, 24, 29]\n"
     ]
    }
   ],
   "source": [
    "print(y)"
   ]
  },
  {
   "cell_type": "code",
   "execution_count": null,
   "id": "e12b2b4f",
   "metadata": {},
   "outputs": [],
   "source": []
  }
 ],
 "metadata": {
  "kernelspec": {
   "display_name": "Python 3 (ipykernel)",
   "language": "python",
   "name": "python3"
  },
  "language_info": {
   "codemirror_mode": {
    "name": "ipython",
    "version": 3
   },
   "file_extension": ".py",
   "mimetype": "text/x-python",
   "name": "python",
   "nbconvert_exporter": "python",
   "pygments_lexer": "ipython3",
   "version": "3.9.12"
  }
 },
 "nbformat": 4,
 "nbformat_minor": 5
}
